{
 "cells": [
  {
   "cell_type": "code",
   "execution_count": 2,
   "id": "4e45dc15",
   "metadata": {},
   "outputs": [],
   "source": [
    "import os\n",
    "import tarfile\n",
    "import urllib"
   ]
  },
  {
   "cell_type": "code",
   "execution_count": 8,
   "id": "2c35855d",
   "metadata": {},
   "outputs": [],
   "source": [
    "GITHUB_URL = \"https://raw.githubusercontent.com/ageron/handson-ml2/master/\"\n",
    "FILE_PATH = os.path.join(\"datasets\",\"housing\")\n",
    "GITHUT_PATH = os.path.join(GITHUB_URL,  \"datasets/housing/housing.tgz\")\n",
    "\n",
    "def fetch_california_pricing():\n",
    "    os.makedirs(FILE_PATH, exist_ok=True)\n",
    "    tgz_path = os.path.join(FILE_PATH, \"housing.tgz\")\n",
    "    urllib.request.urlretrieve(GITHUT_PATH, tgz_path)\n",
    "    with tarfile.open(tgz_path) as tar_file:\n",
    "        tar_file.extractall(FILE_PATH)\n",
    "\n",
    "fetch_california_pricing()"
   ]
  },
  {
   "cell_type": "code",
   "execution_count": 12,
   "id": "367e6c85",
   "metadata": {},
   "outputs": [
    {
     "name": "stdout",
     "output_type": "stream",
     "text": [
      "longitude,latitude,housing_median_age,total_rooms,total_bedrooms,population,households,median_income,median_house_value,ocean_proximity\r\n",
      "-122.23,37.88,41.0,880.0,129.0,322.0,126.0,8.3252,452600.0,NEAR BAY\r\n",
      "-122.22,37.86,21.0,7099.0,1106.0,2401.0,1138.0,8.3014,358500.0,NEAR BAY\r\n",
      "-122.24,37.85,52.0,1467.0,190.0,496.0,177.0,7.2574,352100.0,NEAR BAY\r\n",
      "-122.25,37.85,52.0,1274.0,235.0,558.0,219.0,5.6431,341300.0,NEAR BAY\r\n",
      "-122.25,37.85,52.0,1627.0,280.0,565.0,259.0,3.8462,342200.0,NEAR BAY\r\n",
      "-122.25,37.85,52.0,919.0,213.0,413.0,193.0,4.0368,269700.0,NEAR BAY\r\n",
      "-122.25,37.84,52.0,2535.0,489.0,1094.0,514.0,3.6591,299200.0,NEAR BAY\r\n",
      "-122.25,37.84,52.0,3104.0,687.0,1157.0,647.0,3.12,241400.0,NEAR BAY\r\n",
      "-122.26,37.84,42.0,2555.0,665.0,1206.0,595.0,2.0804,226700.0,NEAR BAY\r\n"
     ]
    }
   ],
   "source": [
    "!head ./datasets/housing/housing.csv"
   ]
  },
  {
   "cell_type": "code",
   "execution_count": null,
   "id": "aa07714d",
   "metadata": {},
   "outputs": [],
   "source": []
  }
 ],
 "metadata": {
  "kernelspec": {
   "display_name": "Python 3",
   "language": "python",
   "name": "python3"
  },
  "language_info": {
   "codemirror_mode": {
    "name": "ipython",
    "version": 3
   },
   "file_extension": ".py",
   "mimetype": "text/x-python",
   "name": "python",
   "nbconvert_exporter": "python",
   "pygments_lexer": "ipython3",
   "version": "3.9.4"
  }
 },
 "nbformat": 4,
 "nbformat_minor": 5
}
