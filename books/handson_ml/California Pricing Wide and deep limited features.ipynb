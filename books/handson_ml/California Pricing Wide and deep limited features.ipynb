{
 "cells": [
  {
   "cell_type": "code",
   "execution_count": 1,
   "id": "5fa055c8",
   "metadata": {},
   "outputs": [],
   "source": [
    "import tensorflow as tf\n",
    "import tensorflow.keras as keras\n",
    "from sklearn.datasets import fetch_california_housing\n",
    "from sklearn.preprocessing import StandardScaler\n",
    "from sklearn.model_selection import train_test_split"
   ]
  },
  {
   "cell_type": "code",
   "execution_count": 2,
   "id": "c719fe65",
   "metadata": {},
   "outputs": [
    {
     "data": {
      "text/plain": [
       "dict_keys(['data', 'target', 'frame', 'target_names', 'feature_names', 'DESCR'])"
      ]
     },
     "execution_count": 2,
     "metadata": {},
     "output_type": "execute_result"
    }
   ],
   "source": [
    "housing = fetch_california_housing()\n",
    "housing.keys()"
   ]
  },
  {
   "cell_type": "code",
   "execution_count": 3,
   "id": "dac6782c",
   "metadata": {},
   "outputs": [
    {
     "data": {
      "text/plain": [
       "((11610, 8), (11610,))"
      ]
     },
     "execution_count": 3,
     "metadata": {},
     "output_type": "execute_result"
    }
   ],
   "source": [
    "Xtrain_full, Xtest, ytrain_full, ytest = train_test_split(housing.data, housing.target)\n",
    "Xtrain, Xval, ytrain, yval = train_test_split(Xtrain_full, ytrain_full)\n",
    "Xtrain.shape, ytrain.shape"
   ]
  },
  {
   "cell_type": "code",
   "execution_count": 4,
   "id": "de5b7f0a",
   "metadata": {},
   "outputs": [],
   "source": [
    "scaler = StandardScaler()\n",
    "Xtrain = scaler.fit_transform(Xtrain)\n",
    "Xval = scaler.transform(Xval)\n",
    "Xtest = scaler.transform(Xtest)"
   ]
  },
  {
   "cell_type": "code",
   "execution_count": 12,
   "id": "058daf81",
   "metadata": {},
   "outputs": [],
   "source": [
    "Xtrain_A, Xtrain_b = (Xtrain[:,:5], Xtrain[:,2:])\n",
    "Xval_A, Xval_b = (Xval[:,:5], Xval[:,2:])\n",
    "Xtest_a, Xtest_b = (Xtest[:,:5], Xtest[:,2:])\n",
    "\n",
    "input_A = keras.layers.Input(shape=Xtrain_A.shape[1:], name = \"wide\")\n",
    "input_b = keras.layers.Input(shape=Xtrain_b.shape[1:], name = \"deep\")\n",
    "hidden1 = keras.layers.Dense(30, activation=\"relu\")(input_b)\n",
    "hidden2 = keras.layers.Dense(30, activation=\"relu\")(hidden1)\n",
    "concat = keras.layers.Concatenate()([input_A, hidden2])\n",
    "output = keras.layers.Dense(1)(concat)\n",
    "model = keras.Model(inputs=[input_A, input_b], outputs=[output])\n",
    "model.compile(loss=keras.losses.mean_squared_error, optimizer = keras.optimizers.SGD(learning_rate=5e-3))"
   ]
  },
  {
   "cell_type": "code",
   "execution_count": 13,
   "id": "92765a16",
   "metadata": {},
   "outputs": [
    {
     "name": "stdout",
     "output_type": "stream",
     "text": [
      "Epoch 1/20\n",
      "363/363 [==============================] - 2s 4ms/step - loss: 2.0667 - val_loss: 0.5695\n",
      "Epoch 2/20\n",
      "363/363 [==============================] - 2s 4ms/step - loss: 0.5535 - val_loss: 0.5035\n",
      "Epoch 3/20\n",
      "363/363 [==============================] - 1s 3ms/step - loss: 0.5251 - val_loss: 0.4790\n",
      "Epoch 4/20\n",
      "363/363 [==============================] - 1s 3ms/step - loss: 0.5274 - val_loss: 0.4671\n",
      "Epoch 5/20\n",
      "363/363 [==============================] - 1s 3ms/step - loss: 0.5205 - val_loss: 0.4587\n",
      "Epoch 6/20\n",
      "363/363 [==============================] - 1s 3ms/step - loss: 0.4875 - val_loss: 0.4500\n",
      "Epoch 7/20\n",
      "363/363 [==============================] - 1s 3ms/step - loss: 0.4983 - val_loss: 0.4487\n",
      "Epoch 8/20\n",
      "363/363 [==============================] - 2s 5ms/step - loss: 0.4595 - val_loss: 0.4424\n",
      "Epoch 9/20\n",
      "363/363 [==============================] - 1s 4ms/step - loss: 0.4570 - val_loss: 0.4366\n",
      "Epoch 10/20\n",
      "363/363 [==============================] - 2s 5ms/step - loss: 0.4612 - val_loss: 0.4405\n",
      "Epoch 11/20\n",
      "363/363 [==============================] - 2s 5ms/step - loss: 0.4522 - val_loss: 0.4288\n",
      "Epoch 12/20\n",
      "363/363 [==============================] - 1s 4ms/step - loss: 0.4379 - val_loss: 0.4276\n",
      "Epoch 13/20\n",
      "363/363 [==============================] - 2s 5ms/step - loss: 0.4394 - val_loss: 0.4220\n",
      "Epoch 14/20\n",
      "363/363 [==============================] - 2s 5ms/step - loss: 0.4392 - val_loss: 0.4154\n",
      "Epoch 15/20\n",
      "363/363 [==============================] - 2s 5ms/step - loss: 0.4195 - val_loss: 0.4115\n",
      "Epoch 16/20\n",
      "363/363 [==============================] - 2s 5ms/step - loss: 0.4353 - val_loss: 0.4097\n",
      "Epoch 17/20\n",
      "363/363 [==============================] - 2s 6ms/step - loss: 0.4401 - val_loss: 0.4352\n",
      "Epoch 18/20\n",
      "363/363 [==============================] - 2s 5ms/step - loss: 0.4194 - val_loss: 0.4012\n",
      "Epoch 19/20\n",
      "363/363 [==============================] - 2s 5ms/step - loss: 0.4156 - val_loss: 0.3941\n",
      "Epoch 20/20\n",
      "363/363 [==============================] - 2s 6ms/step - loss: 0.4100 - val_loss: 0.3968\n"
     ]
    }
   ],
   "source": [
    "history = model.fit((Xtrain_A, Xtrain_b), ytrain, validation_data=((Xval_A, Xval_b), yval), epochs=20)"
   ]
  },
  {
   "cell_type": "code",
   "execution_count": 14,
   "id": "9c19d9b7",
   "metadata": {},
   "outputs": [
    {
     "name": "stdout",
     "output_type": "stream",
     "text": [
      "162/162 [==============================] - 0s 3ms/step - loss: 0.4059\n"
     ]
    }
   ],
   "source": [
    "result = model.evaluate((Xtest_a, Xtest_b), ytest)"
   ]
  },
  {
   "cell_type": "code",
   "execution_count": null,
   "id": "5814ce5c",
   "metadata": {},
   "outputs": [],
   "source": []
  }
 ],
 "metadata": {
  "kernelspec": {
   "display_name": "Python 3",
   "language": "python",
   "name": "python3"
  },
  "language_info": {
   "codemirror_mode": {
    "name": "ipython",
    "version": 3
   },
   "file_extension": ".py",
   "mimetype": "text/x-python",
   "name": "python",
   "nbconvert_exporter": "python",
   "pygments_lexer": "ipython3",
   "version": "3.9.4"
  }
 },
 "nbformat": 4,
 "nbformat_minor": 5
}
