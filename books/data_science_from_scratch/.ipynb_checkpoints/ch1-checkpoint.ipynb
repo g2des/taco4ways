{
 "cells": [
  {
   "cell_type": "markdown",
   "metadata": {},
   "source": [
    "- According to a Venn diagram that is somewhat famous in the industry, data science lies at the intersection of:\n",
    "    - Hacking skills\n",
    "    - Math and statistics knowledge\n",
    "    - Substantive expertise"
   ]
  },
  {
   "cell_type": "markdown",
   "metadata": {},
   "source": [
    "## Finding Key Connectors\n",
    "\n",
    "> To identify who the “key connectors” are among data scientists."
   ]
  },
  {
   "cell_type": "code",
   "execution_count": 16,
   "metadata": {},
   "outputs": [],
   "source": [
    "users = [\n",
    "    { \"id\": 0, \"name\": \"Hero\" },\n",
    "    { \"id\": 1, \"name\": \"Dunn\" },\n",
    "    { \"id\": 2, \"name\": \"Sue\" },\n",
    "    { \"id\": 3, \"name\": \"Chi\" },\n",
    "    { \"id\": 4, \"name\": \"Thor\" },\n",
    "    { \"id\": 5, \"name\": \"Clive\" },\n",
    "    { \"id\": 6, \"name\": \"Hicks\" },\n",
    "    { \"id\": 7, \"name\": \"Devin\" },\n",
    "    { \"id\": 8, \"name\": \"Kate\" },\n",
    "    { \"id\": 9, \"name\": \"Klein\" }\n",
    "]\n",
    "friendship_pairs = [(0, 1), (0, 2), (1, 2), (1, 3), (2, 3), (3, 4),\n",
    "                    (4, 5), (5, 6), (5, 7), (6, 8), (7, 8), (8, 9)]"
   ]
  },
  {
   "cell_type": "code",
   "execution_count": 17,
   "metadata": {},
   "outputs": [
    {
     "name": "stdout",
     "output_type": "stream",
     "text": [
      "24 2.4 [(1, 3), (2, 3), (3, 3), (5, 3), (8, 3)]\n"
     ]
    }
   ],
   "source": [
    "from collections import Counter, defaultdict\n",
    "\n",
    "def lookup(users, friendship_pairs):\n",
    "    connections = {user['id']: [] for user in users}\n",
    "    for x, y in friendship_pairs:\n",
    "        connections[x].append(y)\n",
    "        connections[y].append(x)\n",
    "    return connections\n",
    "friendship_list = lookup(users, friendship_pairs)\n",
    "friendship_count = Counter({key : len(value) for key, value in counter.items()})\n",
    "total_friends = sum([value for value in friendship_count.values()])\n",
    "average_friends = total_friends/len(friendship_count)\n",
    "print(total_friends, average_friends, friendship_count.most_common(5))"
   ]
  },
  {
   "cell_type": "code",
   "execution_count": 18,
   "metadata": {},
   "outputs": [
    {
     "data": {
      "text/plain": [
       "{0: [1, 2],\n",
       " 1: [0, 2, 3],\n",
       " 2: [0, 1, 3],\n",
       " 3: [1, 2, 4],\n",
       " 4: [3, 5],\n",
       " 5: [4, 6, 7],\n",
       " 6: [5, 8],\n",
       " 7: [5, 8],\n",
       " 8: [6, 7, 9],\n",
       " 9: [8]}"
      ]
     },
     "execution_count": 18,
     "metadata": {},
     "output_type": "execute_result"
    }
   ],
   "source": [
    "friendship_list"
   ]
  },
  {
   "cell_type": "markdown",
   "metadata": {},
   "source": [
    "## “Data Scientists You May Know” suggester\n",
    "- Suggest friends of friends list? \n",
    "- Suggest friends of friends with count of mutual friends\n",
    "- Suggest foaf with count of mutual friends, foaf you have most common and maybe people you have most common with."
   ]
  },
  {
   "cell_type": "code",
   "execution_count": 35,
   "metadata": {},
   "outputs": [
    {
     "name": "stdout",
     "output_type": "stream",
     "text": [
      "Counter({3: 2})\n",
      "Counter({4: 1})\n",
      "Counter({4: 1})\n",
      "Counter({0: 2, 5: 1})\n"
     ]
    }
   ],
   "source": [
    "def foaf_identifier(user):\n",
    "    userid = user['id']\n",
    "    return Counter([foaf for friend_id in friendship_list[userid]\n",
    "                       for foaf in friendship_list[friend_id]\n",
    "                       if foaf != userid and foaf not in friendship_list[userid] ])\n",
    "print(foaf_identifier(users[0]))\n",
    "print(foaf_identifier(users[1]))\n",
    "print(foaf_identifier(users[2]))\n",
    "print(foaf_identifier(users[3]))"
   ]
  },
  {
   "cell_type": "code",
   "execution_count": 39,
   "metadata": {},
   "outputs": [
    {
     "name": "stdout",
     "output_type": "stream",
     "text": [
      "defaultdict(<class 'set'>, {0: {'Storm', 'Cassandra', 'Java', 'Big Data', 'Spark', 'Hadoop', 'HBase'}, 1: {'NoSQL', 'MongoDB', 'Cassandra', 'Postgres', 'HBase'}, 2: {'Python', 'pandas', 'scikit-learn', 'scipy', 'numpy', 'statsmodels'}, 3: {'regression', 'Python', 'R', 'statistics', 'probability'}, 4: {'decision trees', 'regression', 'libsvm', 'machine learning'}, 5: {'programming languages', 'Haskell', 'Python', 'R', 'Java', 'C++'}, 6: {'theory', 'probability', 'mathematics', 'statistics'}, 7: {'neural networks', 'machine learning', 'Mahout', 'scikit-learn'}, 8: {'Big Data', 'neural networks', 'deep learning', 'artificial intelligence'}, 9: {'Hadoop', 'MapReduce', 'Big Data', 'Java'}}) \n",
      " defaultdict(<class 'set'>, {'Hadoop': {0, 9}, 'Big Data': {0, 8, 9}, 'HBase': {0, 1}, 'Java': {0, 9, 5}, 'Spark': {0}, 'Storm': {0}, 'Cassandra': {0, 1}, 'NoSQL': {1}, 'MongoDB': {1}, 'Postgres': {1}, 'Python': {2, 3, 5}, 'scikit-learn': {2, 7}, 'scipy': {2}, 'numpy': {2}, 'statsmodels': {2}, 'pandas': {2}, 'R': {3, 5}, 'statistics': {3, 6}, 'regression': {3, 4}, 'probability': {3, 6}, 'machine learning': {4, 7}, 'decision trees': {4}, 'libsvm': {4}, 'C++': {5}, 'Haskell': {5}, 'programming languages': {5}, 'mathematics': {6}, 'theory': {6}, 'Mahout': {7}, 'neural networks': {8, 7}, 'deep learning': {8}, 'artificial intelligence': {8}, 'MapReduce': {9}})\n"
     ]
    }
   ],
   "source": [
    "interests = [\n",
    "    (0, \"Hadoop\"), (0, \"Big Data\"), (0, \"HBase\"), (0, \"Java\"),\n",
    "    (0, \"Spark\"), (0, \"Storm\"), (0, \"Cassandra\"),\n",
    "    (1, \"NoSQL\"), (1, \"MongoDB\"), (1, \"Cassandra\"), (1, \"HBase\"),\n",
    "    (1, \"Postgres\"), (2, \"Python\"), (2, \"scikit-learn\"), (2, \"scipy\"),\n",
    "    (2, \"numpy\"), (2, \"statsmodels\"), (2, \"pandas\"), (3, \"R\"), (3, \"Python\"),\n",
    "    (3, \"statistics\"), (3, \"regression\"), (3, \"probability\"),\n",
    "    (4, \"machine learning\"), (4, \"regression\"), (4, \"decision trees\"),\n",
    "    (4, \"libsvm\"), (5, \"Python\"), (5, \"R\"), (5, \"Java\"), (5, \"C++\"),\n",
    "    (5, \"Haskell\"), (5, \"programming languages\"), (6, \"statistics\"),\n",
    "    (6, \"probability\"), (6, \"mathematics\"), (6, \"theory\"),\n",
    "    (7, \"machine learning\"), (7, \"scikit-learn\"), (7, \"Mahout\"),\n",
    "    (7, \"neural networks\"), (8, \"neural networks\"), (8, \"deep learning\"),\n",
    "    (8, \"Big Data\"), (8, \"artificial intelligence\"), (9, \"Hadoop\"),\n",
    "    (9, \"Java\"), (9, \"MapReduce\"), (9, \"Big Data\")\n",
    "]\n",
    "userid_interest_index = defaultdict(set)\n",
    "interest_userid_index = defaultdict(set)\n",
    "for userid, interest in interests:\n",
    "    userid_interest_index[userid].add(interest)\n",
    "    interest_userid_index[interest].add(userid)\n",
    "print(userid_interest_index, '\\n',interest_userid_index)"
   ]
  },
  {
   "cell_type": "code",
   "execution_count": 41,
   "metadata": {},
   "outputs": [
    {
     "name": "stdout",
     "output_type": "stream",
     "text": [
      "{3: {'common_friends': 2, 'common_interests': set()}}\n",
      "{4: {'common_friends': 1, 'common_interests': set()}}\n",
      "{4: {'common_friends': 1, 'common_interests': set()}}\n",
      "{0: {'common_friends': 2, 'common_interests': set()}, 5: {'common_friends': 1, 'common_interests': {'Python', 'R'}}}\n"
     ]
    }
   ],
   "source": [
    "def get_common_interests(userid, foafid):\n",
    "    return userid_interest_index[userid] & userid_interest_index[foafid]\n",
    "\n",
    "def mutual_friendship_suggester(user):\n",
    "    foaf = foaf_identifier(user)\n",
    "    mutual_friends = dict()\n",
    "    for foafid, mutual_friends_count in foaf.items():\n",
    "        mutual_friends[foafid] ={'common_friends' : mutual_friends_count, \"common_interests\" : get_common_interests(user['id'], foafid)}\n",
    "    return mutual_friends\n",
    "print(mutual_friendship_suggester(users[0]))\n",
    "print(mutual_friendship_suggester(users[1]))\n",
    "print(mutual_friendship_suggester(users[2]))\n",
    "print(mutual_friendship_suggester(users[3]))    \n",
    "    "
   ]
  }
 ],
 "metadata": {
  "kernelspec": {
   "display_name": "Python 3",
   "language": "python",
   "name": "python3"
  },
  "language_info": {
   "codemirror_mode": {
    "name": "ipython",
    "version": 3
   },
   "file_extension": ".py",
   "mimetype": "text/x-python",
   "name": "python",
   "nbconvert_exporter": "python",
   "pygments_lexer": "ipython3",
   "version": "3.8.3"
  }
 },
 "nbformat": 4,
 "nbformat_minor": 4
}
