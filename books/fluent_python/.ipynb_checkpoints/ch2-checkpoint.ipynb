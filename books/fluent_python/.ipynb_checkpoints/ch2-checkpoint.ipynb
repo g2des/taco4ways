{
 "cells": [
  {
   "cell_type": "markdown",
   "metadata": {},
   "source": [
    "\n",
    "## Container sequences\n",
    "\n",
    "- list, tuple, and collections.deque can hold items of different types, including nested containers.\n",
    "- Flat sequences str, bytes, bytearray, memoryview, and array.array hold items of one simple type.\n",
    "- A container sequence holds references to the objects it contains, which may be of any type.\n",
    "- A flat sequence stores the value of its contents in its own memory space, and not as distinct objects. \n",
    "- Thus, flat sequences are more compact, but they are limited to holding primitive machine values like bytes, integers, and floats.\n",
    "\n",
    "> **why an array with of floats is much more compact than a tuple of floats?** The array is a single object holding the raw values of the floats, while the tuple is several objects—the tuple itself and each float object contained in it.\n",
    "\n",
    "- Keep in mind these common traits: mutable versus immutable; container versus flat. They are helpful to extrapolate what you know about one sequence type to others."
   ]
  },
  {
   "cell_type": "code",
   "execution_count": 1,
   "metadata": {},
   "outputs": [
    {
     "name": "stdout",
     "output_type": "stream",
     "text": [
      "<class 'list'> [('black', 'S'), ('black', 'M'), ('black', 'L'), ('white', 'S'), ('white', 'M'), ('white', 'L'), ('grey', 'S'), ('grey', 'M'), ('grey', 'L'), ('maroon', 'S'), ('maroon', 'M'), ('maroon', 'L')]\n"
     ]
    }
   ],
   "source": [
    "sizes = list('SML')\n",
    "colors = \"black white grey maroon\".split()\n",
    "inventory = [(color, size) for color in colors\n",
    "                    for size in sizes]\n",
    "print(type(inventory), inventory)"
   ]
  },
  {
   "cell_type": "code",
   "execution_count": 2,
   "metadata": {},
   "outputs": [
    {
     "name": "stdout",
     "output_type": "stream",
     "text": [
      "<class 'set'> {0, 1, 2, 3, 4, 5, 6, 7, 8, 9, 10, 11, 12, 13, 14, 15, 16, 17, 18, 19}\n"
     ]
    }
   ],
   "source": [
    "numbers = {x for x in range(20)}\n",
    "print(type(numbers), numbers)\n"
   ]
  },
  {
   "cell_type": "code",
   "execution_count": 3,
   "metadata": {},
   "outputs": [
    {
     "name": "stdout",
     "output_type": "stream",
     "text": [
      "<class 'dict'> {0: 0, 1: 1, 2: 4, 3: 9, 4: 16, 5: 25, 6: 36, 7: 49, 8: 64, 9: 81, 10: 100, 11: 121, 12: 144, 13: 169, 14: 196, 15: 225, 16: 256, 17: 289, 18: 324, 19: 361}\n"
     ]
    }
   ],
   "source": [
    "numbers = {x:x**2 for x in range(20)}\n",
    "print(type(numbers), numbers)\n"
   ]
  },
  {
   "cell_type": "markdown",
   "metadata": {},
   "source": [
    "## Comprehensions and generators\n",
    "- Comprehensions calculate all values eagerly while generators do not.\n",
    "- Generators can be built by wraping the comprehension in parantheses in stead of \\[\\] or {}. \n",
    "- This means a tuple comprehension doesn't really work so (x for x in range(10)) will build a generator function and not a tuple.\n",
    "- To get tuple from this we will need to wrap the generator function in tuple function"
   ]
  },
  {
   "cell_type": "code",
   "execution_count": 4,
   "metadata": {},
   "outputs": [
    {
     "name": "stdout",
     "output_type": "stream",
     "text": [
      "<class 'generator'> [('black', 'S'), ('black', 'M'), ('black', 'L'), ('white', 'S'), ('white', 'M'), ('white', 'L'), ('grey', 'S'), ('grey', 'M'), ('grey', 'L'), ('maroon', 'S'), ('maroon', 'M'), ('maroon', 'L')]\n"
     ]
    }
   ],
   "source": [
    "inventory = ((color, size) for color in colors\n",
    "                    for size in sizes)\n",
    "print(type(inventory), list(inventory))\n",
    "\n"
   ]
  },
  {
   "cell_type": "code",
   "execution_count": 5,
   "metadata": {},
   "outputs": [
    {
     "name": "stdout",
     "output_type": "stream",
     "text": [
      "<class 'generator'> {0, 1, 2, 3, 4, 5, 6, 7, 8, 9, 10, 11, 12, 13, 14, 15, 16, 17, 18, 19}\n"
     ]
    }
   ],
   "source": [
    "numbers = (x for x in range(20))\n",
    "print(type(numbers), set(numbers))"
   ]
  },
  {
   "cell_type": "code",
   "execution_count": 6,
   "metadata": {},
   "outputs": [
    {
     "name": "stdout",
     "output_type": "stream",
     "text": [
      "<class 'generator'> {0: 0, 1: 1, 2: 4, 3: 9, 4: 16, 5: 25, 6: 36, 7: 49, 8: 64, 9: 81, 10: 100, 11: 121, 12: 144, 13: 169, 14: 196, 15: 225, 16: 256, 17: 289, 18: 324, 19: 361}\n"
     ]
    }
   ],
   "source": [
    "numbers = ((x,x**2) for x in range(20))\n",
    "print(type(numbers), dict(numbers))"
   ]
  },
  {
   "cell_type": "markdown",
   "metadata": {},
   "source": [
    "## Tuples\n",
    "- If you think of a tuple just as an immutable list, the quantity and the order of the items may or may not be important, depending on the context. But when using a tuple as a collection of fields, the number of items is usually fixed and their order is always important.\n",
    "- Tuple unpacking works with any iterable object. The only requirement is that the iterable yields exactly one item per variable in the receiving tuple, unless you use a star (*) to capture excess items as explained in “Using * to grab excess items”."
   ]
  },
  {
   "cell_type": "code",
   "execution_count": 7,
   "metadata": {},
   "outputs": [
    {
     "name": "stdout",
     "output_type": "stream",
     "text": [
      "0 1 [2, 3, 4, 5, 6, 7, 8, 9]\n",
      "0 1 [2]\n",
      "0 1 []\n"
     ]
    }
   ],
   "source": [
    "a,b, *c = range(10)\n",
    "print(a, b, c)\n",
    "a,b, *c = range(3)\n",
    "print(a, b, c)\n",
    "a,b, *c = range(2)\n",
    "print(a, b, c)"
   ]
  },
  {
   "cell_type": "markdown",
   "metadata": {},
   "source": [
    "- In the context of parallel assignment, the * prefix can be applied to exactly one variable, but it can appear in any position"
   ]
  },
  {
   "cell_type": "code",
   "execution_count": 8,
   "metadata": {},
   "outputs": [
    {
     "name": "stdout",
     "output_type": "stream",
     "text": [
      "0 1 [2, 3, 4, 5, 6, 7, 8, 9]\n",
      "0 [1, 2, 3, 4, 5, 6, 7, 8] 9\n",
      "[0, 1, 2, 3, 4, 5, 6, 7] 8 9\n"
     ]
    }
   ],
   "source": [
    "a,b, *c = range(10)\n",
    "print(a, b, c)\n",
    "a,*b,c = range(10)\n",
    "print(a, b, c)\n",
    "*a,b, c = range(10)\n",
    "print(a, b, c)"
   ]
  },
  {
   "cell_type": "markdown",
   "metadata": {},
   "source": [
    "## Using + and * with Sequences\n",
    "- Beware of expressions like a * n when a is a sequence containing mutable items because the result may surprise you.\n"
   ]
  },
  {
   "cell_type": "code",
   "execution_count": 9,
   "metadata": {},
   "outputs": [
    {
     "name": "stdout",
     "output_type": "stream",
     "text": [
      "[['_', '_'], ['_', '_'], ['_', '_']]\n",
      "[['X', '_'], ['X', '_'], ['X', '_']]\n",
      "[['_', '_'], ['_', '_'], ['_', '_']]\n",
      "[['_', '_'], ['X', '_'], ['_', '_']]\n"
     ]
    }
   ],
   "source": [
    "a = [[\"_\"] * 2]*3\n",
    "print(a)\n",
    "a[1][0] = \"X\"\n",
    "print(a)\n",
    "a = [[\"_\"] * 2 for _ in range(3)]\n",
    "print(a)\n",
    "a[1][0] = \"X\"\n",
    "print(a)"
   ]
  },
  {
   "cell_type": "markdown",
   "metadata": {},
   "source": [
    "### Augmented Assignment with Sequences\n",
    "- The += and *= operators, which produce very different results depending on the mutability of the target sequence.\n",
    "- If a implements \\_\\_iadd\\_\\_, that will be called. In the case of mutable sequences (e.g., list, bytearray, array.array), a will be changed in place (i.e., the effect will be similar to a.extend(b))\n",
    "- In general, for mutable sequences, it is a good bet that __iadd__ is implemented and that += happens in place. For immutable sequences, clearly there is no way for that to happen."
   ]
  },
  {
   "cell_type": "code",
   "execution_count": 10,
   "metadata": {},
   "outputs": [
    {
     "name": "stdout",
     "output_type": "stream",
     "text": [
      "140679719683264\n",
      "140679719683264\n",
      "140679728301376\n",
      "140679728459504\n"
     ]
    }
   ],
   "source": [
    "a = [1,2,3]\n",
    "print(id(a))\n",
    "a += [4,5]\n",
    "print(id(a))\n",
    "b = (1,2,3)\n",
    "print(id(b))\n",
    "b += (4,5)\n",
    "print(id(b))"
   ]
  },
  {
   "cell_type": "markdown",
   "metadata": {},
   "source": [
    "## list.sort and sorted\n",
    "- The list.sort method sorts a list in-place—that is, without making a copy.\n",
    "- In contrast, the built-in function sorted creates a new list and returns it.\n",
    "- **Return None to remind that changes are made in-place. This has one drawback: we cannot cascade calls to those methods.**"
   ]
  },
  {
   "cell_type": "code",
   "execution_count": 11,
   "metadata": {},
   "outputs": [
    {
     "name": "stdout",
     "output_type": "stream",
     "text": [
      "[1, 4, 26, 35, 54, 59, 61, 62, 73, 73] None [1, 4, 26, 35, 54, 59, 61, 62, 73, 73]\n",
      "[83, 20, 4, 66, 62, 41, 9, 31, 95, 46] [4, 9, 20, 31, 41, 46, 62, 66, 83, 95]\n"
     ]
    }
   ],
   "source": [
    "import random\n",
    "random.seed(10)\n",
    "a = [random.randint(0,100) for _ in range(10)]\n",
    "print(a, a.sort(), a)\n",
    "a = [random.randint(0,100) for _ in range(10)]\n",
    "print(a, sorted(a))"
   ]
  },
  {
   "cell_type": "markdown",
   "metadata": {},
   "source": [
    "## Bisect\n",
    "- The bisect module offers two main functions—bisect and insort—that use the binary search algorithm to quickly find and insert items in any sorted sequence.\n",
    "- An interesting application of bisect is to perform table lookups by numeric values—for example, to convert test scores to letter grades\n",
    "- Sorting is expensive, so once you have a sorted sequence, it’s good to keep it that way. That is why bisect.insort was created."
   ]
  },
  {
   "cell_type": "code",
   "execution_count": 12,
   "metadata": {},
   "outputs": [
    {
     "name": "stdout",
     "output_type": "stream",
     "text": [
      "DEMO: bisect_right\n",
      "haystack ->  1  4  5  6  8 12 15 20 21 23 23 26 29 30\n",
      "31 @ 14      |  |  |  |  |  |  |  |  |  |  |  |  |  |31\n",
      "30 @ 14      |  |  |  |  |  |  |  |  |  |  |  |  |  |30\n",
      "29 @ 13      |  |  |  |  |  |  |  |  |  |  |  |  |29\n",
      "23 @ 11      |  |  |  |  |  |  |  |  |  |  |23\n",
      "22 @  9      |  |  |  |  |  |  |  |  |22\n",
      "10 @  5      |  |  |  |  |10\n",
      " 8 @  5      |  |  |  |  |8 \n",
      " 5 @  3      |  |  |5 \n",
      " 2 @  1      |2 \n",
      " 1 @  1      |1 \n",
      " 0 @  0    0 \n",
      "DEMO: bisect_left\n",
      "haystack ->  1  4  5  6  8 12 15 20 21 23 23 26 29 30\n",
      "31 @ 14      |  |  |  |  |  |  |  |  |  |  |  |  |  |31\n",
      "30 @ 13      |  |  |  |  |  |  |  |  |  |  |  |  |30\n",
      "29 @ 12      |  |  |  |  |  |  |  |  |  |  |  |29\n",
      "23 @  9      |  |  |  |  |  |  |  |  |23\n",
      "22 @  9      |  |  |  |  |  |  |  |  |22\n",
      "10 @  5      |  |  |  |  |10\n",
      " 8 @  4      |  |  |  |8 \n",
      " 5 @  2      |  |5 \n",
      " 2 @  1      |2 \n",
      " 1 @  0    1 \n",
      " 0 @  0    0 \n"
     ]
    }
   ],
   "source": [
    "import bisect\n",
    "HAYSTACK = [1, 4, 5, 6, 8, 12, 15, 20, 21, 23, 23, 26, 29, 30]\n",
    "NEEDLES = [0, 1, 2, 5, 8, 10, 22, 23, 29, 30, 31]\n",
    "\n",
    "ROW_FMT = '{0:2d} @ {1:2d}    {2}{0:<2d}'\n",
    "\n",
    "def demo(bisect_fn):\n",
    "    for needle in reversed(NEEDLES):\n",
    "        position = bisect_fn(HAYSTACK, needle)\n",
    "        offset = position * '  |'\n",
    "        print(ROW_FMT.format(needle, position, offset))\n",
    "\n",
    "bisect_fn = bisect.bisect\n",
    "\n",
    "print('DEMO:', bisect_fn.__name__) \n",
    "print('haystack ->', ' '.join('%2d' % n for n in HAYSTACK))\n",
    "demo(bisect_fn)\n",
    "\n",
    "bisect_fn = bisect.bisect_left\n",
    "print('DEMO:', bisect_fn.__name__) \n",
    "print('haystack ->', ' '.join('%2d' % n for n in HAYSTACK))\n",
    "demo(bisect_fn)"
   ]
  },
  {
   "cell_type": "code",
   "execution_count": 13,
   "metadata": {},
   "outputs": [
    {
     "name": "stdout",
     "output_type": "stream",
     "text": [
      "55 @ grade F\n",
      "60 @ grade D\n",
      "65 @ grade D\n",
      "70 @ grade C\n",
      "75 @ grade C\n",
      "80 @ grade B\n",
      "85 @ grade B\n",
      "90 @ grade A\n",
      "95 @ grade A\n"
     ]
    }
   ],
   "source": [
    "threshold = [60,70,80,90]\n",
    "grade = list('FDCBA')\n",
    "scores = [55, 60, 65, 70, 75, 80, 85, 90, 95]\n",
    "for score in scores:\n",
    "    position = bisect.bisect(threshold, score)\n",
    "    print(f\"{score} @ grade {grade[position]}\")"
   ]
  },
  {
   "cell_type": "code",
   "execution_count": 14,
   "metadata": {},
   "outputs": [
    {
     "name": "stdout",
     "output_type": "stream",
     "text": [
      "55 @ grade F\n",
      "60 @ grade F\n",
      "65 @ grade D\n",
      "70 @ grade D\n",
      "75 @ grade C\n",
      "80 @ grade C\n",
      "85 @ grade B\n",
      "90 @ grade B\n",
      "95 @ grade A\n"
     ]
    }
   ],
   "source": [
    "for score in scores:\n",
    "    position = bisect.bisect_left(threshold, score)\n",
    "    print(f\"{score} @ grade {grade[position]}\")"
   ]
  },
  {
   "cell_type": "code",
   "execution_count": 15,
   "metadata": {},
   "outputs": [
    {
     "name": "stdout",
     "output_type": "stream",
     "text": [
      "1 -> [1]\n",
      "13 -> [1, 13]\n",
      "4 -> [1, 4, 13]\n",
      "19 -> [1, 4, 13, 19]\n",
      "11 -> [1, 4, 11, 13, 19]\n",
      "12 -> [1, 4, 11, 12, 13, 19]\n",
      "13 -> [1, 4, 11, 12, 13, 13, 19]\n",
      "9 -> [1, 4, 9, 11, 12, 13, 13, 19]\n",
      "8 -> [1, 4, 8, 9, 11, 12, 13, 13, 19]\n",
      "14 -> [1, 4, 8, 9, 11, 12, 13, 13, 14, 19]\n"
     ]
    }
   ],
   "source": [
    "mylist = []\n",
    "for i in range(10):\n",
    "    num = random.randrange(20)\n",
    "    bisect.insort(mylist, num )\n",
    "    print(f\"{num} ->\", mylist)"
   ]
  },
  {
   "cell_type": "markdown",
   "metadata": {},
   "source": [
    "> An array saves a lot of memory when you need to store millions of floating-point values.\n",
    "\n",
    "> If you are constantly adding and removing items from opposite ends of a list, it’s good to know that a deque (double-ended queue) is a more efficient FIFO data structure.\n",
    "\n",
    "> If your code frequently checks whether an item is present in a collection (e.g., item in my_collection), consider using a set for my_collection, especially if it holds a large number of items. Sets are optimized for fast membership checking.\n",
    "\n",
    "\n"
   ]
  },
  {
   "cell_type": "markdown",
   "metadata": {},
   "source": [
    "## Arrays\n",
    "- A Python array is as lean as a C array.\n",
    "- When creating an array, you provide a typecode, a letter to determine the underlying C type used to store each item in the array.\n",
    "- As you can see, **array.tofile and array.fromfile** are easy to use. If you try the example, you’ll notice they are also very fast. A quick experiment shows that it takes about 0.1s for array.fromfile to load 10 million double-precision floats from a binary file created with array.tofile. That is nearly 60 times faster than reading the numbers from a text file, which also involves parsing each line with the float built-in.\n",
    "- In addition, the size of the binary file with 10 million doubles is 80,000,000 bytes (8 bytes per double, zero overhead), while the text file has 181,515,739 bytes, for the same data.\n",
    "- Saving an array of floats with pickle.dump is almost as fast as with array.tofile. However, pickle automatically handles almost all built-in types, including nested containers, and even instances of user-defined classes (if they are not too tricky in their implementation)."
   ]
  },
  {
   "cell_type": "code",
   "execution_count": 18,
   "metadata": {},
   "outputs": [
    {
     "name": "stdout",
     "output_type": "stream",
     "text": [
      "10000000\n"
     ]
    },
    {
     "data": {
      "text/plain": [
       "0.8152183505780113"
      ]
     },
     "execution_count": 18,
     "metadata": {},
     "output_type": "execute_result"
    }
   ],
   "source": [
    "from array import array\n",
    "a = array('d', (random.random() for _ in range(10**7)))\n",
    "print(len(a))\n",
    "a[-1]"
   ]
  },
  {
   "cell_type": "markdown",
   "metadata": {},
   "source": [
    "## MemoryView\n",
    "- The built-in memoryview class is a shared-memory sequence type that lets you handle slices of arrays without copying bytes.\n",
    "- A memoryview is essentially a generalized NumPy array structure in Python itself (without the math).\n",
    "- Using notation similar to the array module, the memoryview.cast method lets you change the way multiple bytes are read or written as units without moving bits around.\n",
    "- **Be careful about datatype as it may corrup the array.**"
   ]
  },
  {
   "cell_type": "code",
   "execution_count": 23,
   "metadata": {},
   "outputs": [
    {
     "name": "stdout",
     "output_type": "stream",
     "text": [
      "[0, 1, 2, 3, 4, 5, 6, 7, 8, 9]\n",
      "[[0, 1], [2, 3], [4, 5], [6, 7], [8, 9]]\n",
      "[[0, 1, 2, 3, 4], [5, 6, 7, 8, 9]]\n",
      "[0, 1, 2, 22, 4, 5, 6, 44, 8, 9]\n"
     ]
    }
   ],
   "source": [
    "octets = array('B', range(10))\n",
    "m1 = memoryview(octets)\n",
    "print(m1.tolist())\n",
    "m2 = m1.cast('B', [5,2])\n",
    "print(m2.tolist())\n",
    "m3 = m1.cast('B', [2,5])\n",
    "print(m3.tolist())\n",
    "m2[1,1] = 22\n",
    "m3[1,2] = 44\n",
    "print(m1.tolist())"
   ]
  },
  {
   "cell_type": "markdown",
   "metadata": {},
   "source": [
    "## Deques and Other Queues\n",
    "- Inserting and removing from the head of a list (the 0-index end) is costly because the entire list must be shifted in memory.\n",
    "- The class collections.deque is a **thread-safe double-ended queue** designed for fast inserting and removing from both ends.\n",
    "- There is a hidden cost: removing items from the middle of a deque is not as fast. It is really optimized for appending and popping from the ends.\n",
    "- **The append and popleft operations are atomic, so deque is safe to use as a FIFO queue in multithreaded applications without the need for using locks.**"
   ]
  },
  {
   "cell_type": "code",
   "execution_count": 33,
   "metadata": {},
   "outputs": [
    {
     "name": "stdout",
     "output_type": "stream",
     "text": [
      "deque([0, 1, 2, 3, 4, 5, 6, 7, 8, 9], maxlen=10)\n",
      "deque([-1, 0, 1, 2, 3, 4, 5, 6, 7, 8], maxlen=10)\n",
      "deque([0, 1, 2, 3, 4, 5, 6, 7, 8, 10], maxlen=10)\n",
      "deque([1, 2, 3, 4, 5, 6, 7, 8, 10], maxlen=10)\n",
      "deque([1, 2, 3, 4, 5, 6, 7, 8], maxlen=10)\n",
      "deque([3, 4, 5, 6, 7, 8, 1, 2], maxlen=10)\n",
      "deque([3, 4, 5, 6, 7, 8, 1, 2, 0, 1], maxlen=10)\n",
      "deque([1, 0, 3, 4, 5, 6, 7, 8, 1, 2], maxlen=10)\n",
      "deque([2, 1, 8, 7, 6, 5, 4, 3, 0, 1], maxlen=10)\n"
     ]
    }
   ],
   "source": [
    "from collections import deque\n",
    "q = deque(range(10), maxlen=10)\n",
    "print(q)\n",
    "q.appendleft(-1)\n",
    "print(q)\n",
    "q.append(10)\n",
    "print(q)\n",
    "q.popleft()\n",
    "print(q)\n",
    "q.pop()\n",
    "print(q)\n",
    "q.rotate(-2)\n",
    "print(q)\n",
    "q.extend(range(2))\n",
    "print(q)\n",
    "q.extendleft(range(2))\n",
    "print(q)\n",
    "q.reverse()\n",
    "print(q)"
   ]
  },
  {
   "cell_type": "markdown",
   "metadata": {},
   "source": [
    "- queue :\n",
    "    - This provides the synchronized (i.e., thread-safe) classes SimpleQueue, Queue, LifoQueue, and PriorityQueue.\n",
    "    - All except SimpleQueue can be bounded by providing a maxsize argument greater than 0 to the constructor. However, they don’t discard items to make room as deque does. Instead, when the queue is full the insertion of a new item blocks—i.e., it waits until some other thread makes room by taking an item from the queue, which is useful to throttle the number of live threads.\n",
    "- multiprocessing : Implements its own unbounded SimpleQueue and bounded Queue, very similar to those in the queue package, but designed for interprocess communication.\n",
    "- asyncio : Provides Queue, LifoQueue, PriorityQueue, and JoinableQueue with APIs inspired by the classes in the queue and multiprocessing modules, but adapted for managing tasks in asynchronous programming.\n",
    "- heapq : In contrast to the previous three modules, heapq does not implement a queue class, but provides functions like heappush and heappop that let you use a mutable sequence as a heap queue or priority queue. "
   ]
  },
  {
   "cell_type": "code",
   "execution_count": null,
   "metadata": {},
   "outputs": [],
   "source": []
  }
 ],
 "metadata": {
  "kernelspec": {
   "display_name": "Python 3",
   "language": "python",
   "name": "python3"
  },
  "language_info": {
   "codemirror_mode": {
    "name": "ipython",
    "version": 3
   },
   "file_extension": ".py",
   "mimetype": "text/x-python",
   "name": "python",
   "nbconvert_exporter": "python",
   "pygments_lexer": "ipython3",
   "version": "3.8.3"
  }
 },
 "nbformat": 4,
 "nbformat_minor": 4
}
