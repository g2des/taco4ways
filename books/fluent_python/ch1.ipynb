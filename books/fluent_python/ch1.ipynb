{
 "cells": [
  {
   "cell_type": "code",
   "execution_count": 1,
   "metadata": {},
   "outputs": [],
   "source": [
    "import collections\n",
    "from random import choice\n",
    "import math"
   ]
  },
  {
   "cell_type": "code",
   "execution_count": 2,
   "metadata": {},
   "outputs": [],
   "source": [
    "Card =  collections.namedtuple('Card',['rank','suit'])"
   ]
  },
  {
   "cell_type": "code",
   "execution_count": 3,
   "metadata": {},
   "outputs": [],
   "source": [
    "\n",
    "class FrenchCard:\n",
    "    ranks = [str(i) for i in range(2,11)] + list('JQKA')\n",
    "    suits = 'spades diamond club hearts'.split()\n",
    "\n",
    "    def __init__(self):\n",
    "        self._cards = [Card(rank, suit) for suit in self.suits\n",
    "                                        for rank in self.ranks]\n",
    "    \n",
    "    def __len__(self):\n",
    "        return len(self._cards)\n",
    "    \n",
    "    def __getitem__(self, position):\n",
    "        return self._cards[position]"
   ]
  },
  {
   "cell_type": "code",
   "execution_count": 4,
   "metadata": {},
   "outputs": [
    {
     "name": "stdout",
     "output_type": "stream",
     "text": [
      "Card(rank='2', suit='club') Card(rank='A', suit='spades')\n",
      "Card(rank='A', suit='spades') Card(rank='2', suit='club')\n",
      "Card(rank='2', suit='club')\n",
      "Card(rank='2', suit='diamond')\n",
      "Card(rank='2', suit='hearts')\n",
      "Card(rank='2', suit='spades')\n",
      "Card(rank='3', suit='club')\n",
      "Card(rank='3', suit='diamond')\n",
      "Card(rank='3', suit='hearts')\n",
      "Card(rank='3', suit='spades')\n",
      "Card(rank='4', suit='club')\n",
      "Card(rank='4', suit='diamond')\n",
      "Card(rank='4', suit='hearts')\n",
      "Card(rank='4', suit='spades')\n",
      "Card(rank='5', suit='club')\n",
      "Card(rank='5', suit='diamond')\n",
      "Card(rank='5', suit='hearts')\n",
      "Card(rank='5', suit='spades')\n",
      "Card(rank='6', suit='club')\n",
      "Card(rank='6', suit='diamond')\n",
      "Card(rank='6', suit='hearts')\n",
      "Card(rank='6', suit='spades')\n",
      "Card(rank='7', suit='club')\n",
      "Card(rank='7', suit='diamond')\n",
      "Card(rank='7', suit='hearts')\n",
      "Card(rank='7', suit='spades')\n",
      "Card(rank='8', suit='club')\n",
      "Card(rank='8', suit='diamond')\n",
      "Card(rank='8', suit='hearts')\n",
      "Card(rank='8', suit='spades')\n",
      "Card(rank='9', suit='club')\n",
      "Card(rank='9', suit='diamond')\n",
      "Card(rank='9', suit='hearts')\n",
      "Card(rank='9', suit='spades')\n",
      "Card(rank='10', suit='club')\n",
      "Card(rank='10', suit='diamond')\n",
      "Card(rank='10', suit='hearts')\n",
      "Card(rank='10', suit='spades')\n",
      "Card(rank='J', suit='club')\n",
      "Card(rank='J', suit='diamond')\n",
      "Card(rank='J', suit='hearts')\n",
      "Card(rank='J', suit='spades')\n",
      "Card(rank='Q', suit='club')\n",
      "Card(rank='Q', suit='diamond')\n",
      "Card(rank='Q', suit='hearts')\n",
      "Card(rank='Q', suit='spades')\n",
      "Card(rank='K', suit='club')\n",
      "Card(rank='K', suit='diamond')\n",
      "Card(rank='K', suit='hearts')\n",
      "Card(rank='K', suit='spades')\n",
      "Card(rank='A', suit='club')\n",
      "Card(rank='A', suit='diamond')\n",
      "Card(rank='A', suit='hearts')\n",
      "Card(rank='A', suit='spades')\n",
      "52\n",
      "Card(rank='2', suit='spades') Card(rank='A', suit='hearts')\n",
      "[Card(rank='A', suit='spades'), Card(rank='A', suit='diamond'), Card(rank='A', suit='club'), Card(rank='A', suit='hearts')]\n",
      "Card(rank='A', suit='spades')\n",
      "Card(rank='J', suit='diamond')\n"
     ]
    }
   ],
   "source": [
    "def test_sorting():\n",
    "    \"\"\"\n",
    "    By coding len and getitem and with a simple key function\\\n",
    "    we can provide enumeration, sorting and reversing the deck\n",
    "    \"\"\"\n",
    "    suits_value = {'spades':3,'hearts':2,'diamond':1,'club':0,}\n",
    "    def card_value(card:Card):\n",
    "        rank_value = FrenchCard.ranks.index(card.rank)\n",
    "        return rank_value * len(suits_value) + suits_value[card.suit]\n",
    "    sorted_deck = sorted(FrenchCard(), key=card_value)\n",
    "    print(sorted_deck[0], sorted_deck[-1])\n",
    "    reversed_deck = sorted(FrenchCard(), key=card_value, reverse=True)\n",
    "    print(reversed_deck[0], reversed_deck[-1])\n",
    "    for card in sorted_deck:\n",
    "        print(card)\n",
    "\n",
    "\n",
    "\n",
    "\n",
    "def test_frenchCard():\n",
    "    \"\"\"\n",
    "    Using len and get item method we can intuitively use len\\\n",
    "    use indexing and also slicing. It can effectively combined with\\\n",
    "    random.choice to draw a random card\n",
    "    \"\"\"\n",
    "    deck = FrenchCard()\n",
    "    print(len(deck))\n",
    "    print(deck[0], deck[-1])\n",
    "    print(deck[12::13])\n",
    "    print(choice(deck))\n",
    "    print(choice(deck))\n",
    "\n",
    "test_sorting()\n",
    "test_frenchCard()"
   ]
  },
  {
   "cell_type": "code",
   "execution_count": 5,
   "metadata": {},
   "outputs": [],
   "source": [
    "class Vector:\n",
    "    \"\"\"\n",
    "    Look at use of hypot and bool functions. Another interesting point\\\n",
    "        is mul is not holding to commutative property of vectors. What\\\n",
    "        should be used instead?\n",
    "    \"\"\"\n",
    "    def __init__(self, x, y):\n",
    "        self.x = x\n",
    "        self.y = y\n",
    "    \n",
    "    def __repr__(self):\n",
    "        return f'Vector({self.x!r}, {self.y!r})'\n",
    "    \n",
    "    def __add__(self, other):\n",
    "        return Vector(self.x + other.x, self.y + other.y)\n",
    "    \n",
    "    def __mul__(self, scalar):\n",
    "        return Vector(self.x * scalar, self.y * scalar)\n",
    "    \n",
    "    def __abs__(self):\n",
    "        return math.hypot(self.x, self.y)\n",
    "    \n",
    "    def __bool__(self):\n",
    "        return bool(abs(self))\n"
   ]
  },
  {
   "cell_type": "code",
   "execution_count": 6,
   "metadata": {},
   "outputs": [
    {
     "name": "stdout",
     "output_type": "stream",
     "text": [
      "Vector(5, 7)\n",
      "5.0\n",
      "Vector(6, 9)\n"
     ]
    }
   ],
   "source": [
    "def test_vector():\n",
    "    a = Vector(2,3)\n",
    "    b = Vector(3,4)\n",
    "    print(a+b)\n",
    "    print(abs(b))\n",
    "    print(a*3)\n",
    "\n",
    "test_vector()"
   ]
  }
 ],
 "metadata": {
  "kernelspec": {
   "display_name": "Python 3",
   "language": "python",
   "name": "python3"
  },
  "language_info": {
   "codemirror_mode": {
    "name": "ipython",
    "version": 3
   },
   "file_extension": ".py",
   "mimetype": "text/x-python",
   "name": "python",
   "nbconvert_exporter": "python",
   "pygments_lexer": "ipython3",
   "version": "3.8.7"
  }
 },
 "nbformat": 4,
 "nbformat_minor": 4
}
